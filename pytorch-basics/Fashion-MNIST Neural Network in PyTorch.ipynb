{
 "cells": [
  {
   "cell_type": "code",
   "execution_count": 2,
   "metadata": {},
   "outputs": [
    {
     "data": {
      "text/plain": [
       "<matplotlib.image.AxesImage at 0x11cbbec50>"
      ]
     },
     "execution_count": 2,
     "metadata": {},
     "output_type": "execute_result"
    }
   ],
   "source": [
    "# Import necessary modules\n",
    "import torch \n",
    "from torchvision import datasets, transforms\n",
    "from torch import nn\n",
    "import torch.nn.functional as F\n",
    "import matplotlib.pyplot as plt\n",
    "from torch import optim\n",
    "\n",
    "\n",
    "# Setting the transfomation pipeline each of the image has to go through\n",
    "transform = transforms.Compose([transforms.ToTensor(), \n",
    "                               transforms.Normalize([0.5], [0.5])\n",
    "                               ])\n",
    "\n",
    "# Setting training set and testing set\n",
    "trainset = datasets.FashionMNIST('~/.pytorch/Fashion-MNIST/', download=True, train=True, transform=transform)\n",
    "testset = datasets.FashionMNIST('~/.pytorch/Fashion-MNIST/', download=True, train=False, transform=transform)\n",
    "\n",
    "\n",
    "# Defining iterators for training and testing data\n",
    "trainloader = torch.utils.data.DataLoader(trainset, batch_size=64, shuffle=True)\n",
    "testloader = torch.utils.data.DataLoader(testset, batch_size = 64, shuffle=True)\n",
    "\n",
    "\n",
    "# Testing if the iterator is working\n",
    "images, labels = next(iter(trainloader))\n",
    "plt.imshow(images[9,:].view(28,28), cmap='gray')"
   ]
  },
  {
   "cell_type": "code",
   "execution_count": 6,
   "metadata": {},
   "outputs": [
    {
     "name": "stdout",
     "output_type": "stream",
     "text": [
      "Epoch number: 1 Training loss: 2.2297523898610683 Testing loss: 2.068737745285034 Accuracy: 0.3779856562614441\n",
      "Epoch number: 2 Training loss: 1.532010305347219 Testing loss: 1.063965916633606 Accuracy: 0.6459991931915283\n",
      "Epoch number: 3 Training loss: 0.8912905466709056 Testing loss: 0.7954716086387634 Accuracy: 0.7117834687232971\n",
      "Epoch number: 4 Training loss: 0.7329751458694177 Testing loss: 0.707165539264679 Accuracy: 0.7384554147720337\n",
      "Epoch number: 5 Training loss: 0.6576571928412676 Testing loss: 0.6480109691619873 Accuracy: 0.7664211988449097\n"
     ]
    }
   ],
   "source": [
    "#Define a model\n",
    "\n",
    "model = nn.Sequential(nn.Linear(28*28,128), \n",
    "                     nn.ReLU(),\n",
    "                     nn.Linear(128, 64),\n",
    "                     nn.ReLU(),\n",
    "                     nn.Linear(64, 32),\n",
    "                     nn.ReLU(), \n",
    "                     nn.Linear(32, 10), \n",
    "                     nn.LogSoftmax(dim=1))\n",
    "\n",
    "# Define criterion. NLLLoss is a suitable criterion as the last layer in above model is logsoftmax\n",
    "criterion= nn.NLLLoss()\n",
    "\n",
    "# Defining the optimizer for training the network. SGD refers to stochastic gradient descent.\n",
    "optimizer = optim.SGD(model.parameters(), lr = 0.003)\n",
    "\n",
    "# Epochs refers to the numbers of iterations through the whole data\n",
    "epochs = 5\n",
    "\n",
    "train_losses = []\n",
    "test_losses = []\n",
    "accuracies = []\n",
    "\n",
    "for e in range(epochs):\n",
    "    # Training\n",
    "    training_loss = 0\n",
    "    test_loss = 0\n",
    "    accuracy = 0\n",
    "    for images, labels in trainloader:\n",
    "        \n",
    "        # Changing images inputs to 2d matrices with number of rows as number of images in each iteration and each row \n",
    "        # vector representing a flattened image\n",
    "        images = images.view(images.shape[0], -1)\n",
    "        \n",
    "        optimizer.zero_grad()\n",
    "        \n",
    "        # Calculating the log softmax probabilities\n",
    "        logps = model(images)\n",
    "        \n",
    "        # Calculating the loss\n",
    "        loss = criterion(logps, labels)\n",
    "        \n",
    "        # Calculating the gradients\n",
    "        loss.backward()\n",
    "        \n",
    "        # Updating the weights\n",
    "        optimizer.step()\n",
    "        \n",
    "        # Updating the training loss\n",
    "        training_loss += loss.item()\n",
    "    else:\n",
    "        # Testing\n",
    "        \n",
    "        # Making sure no gradient calculation happens in the testing step\n",
    "        with torch.no_grad():\n",
    "            for images, labels in testloader:\n",
    "                \n",
    "                # Read comments from the training loop\n",
    "                images = images.view(images.shape[0], -1)\n",
    "                logps = model(images)\n",
    "                test_loss += criterion(logps, labels)\n",
    "                \n",
    "                \n",
    "                # Calculating the probabilities from the log softmax probabilities\n",
    "                ps = torch.exp(logps)\n",
    "                \n",
    "                # Finding the class with highest probability\n",
    "                top_p, top_class = ps.topk(1, dim=1)\n",
    "                \n",
    "                # Checking if the prediction equals the actual label\n",
    "                equality = top_class == labels.view(*top_class.shape)\n",
    "                accuracy += torch.mean(equality.type(torch.FloatTensor))\n",
    "                \n",
    "                \n",
    "        # Updating the list of training, testing and accuracy with epochs\n",
    "        train_losses.append(training_loss/len(trainloader))\n",
    "        test_losses.append(test_loss/len(testloader))\n",
    "        accuracies.append(accuracy/len(testloader))\n",
    "            \n",
    "    print(\"Epoch number: {}\".format(e+1),\n",
    "         \"Training loss: {}\".format(train_losses[-1]),\n",
    "          \"Testing loss: {}\".format(test_losses[-1]),\n",
    "          \"Accuracy: {}\".format(accuracies[-1])\n",
    "         )\n",
    "        \n",
    "        \n",
    "\n",
    "\n",
    "\n"
   ]
  },
  {
   "cell_type": "code",
   "execution_count": 5,
   "metadata": {},
   "outputs": [
    {
     "data": {
      "text/plain": [
       "Text(0.5, 1.0, 'Correct label : 3, Predicted label : 3')"
      ]
     },
     "execution_count": 5,
     "metadata": {},
     "output_type": "execute_result"
    },
    {
     "data": {
      "image/png": "[encoded data removed]",
      "text/plain": [
       "<Figure size 432x288 with 1 Axes>"
      ]
     },
     "metadata": {
      "needs_background": "light"
     },
     "output_type": "display_data"
    }
   ],
   "source": [
    "images, labels = next(iter(testloader))\n",
    "idx = 5\n",
    "image = images[idx]\n",
    "with torch.no_grad():\n",
    "    logps = model(images[idx].view(1, -1))\n",
    "    ps = torch.exp(logps)\n",
    "\n",
    "plt.imshow(image.view(28, 28), cmap='gray')        \n",
    "plt.title(\"Correct label : \" + str(labels[idx].item()) + \", Predicted label : \"+ str(torch.argmax(ps).item()))"
   ]
  },
  {
   "cell_type": "code",
   "execution_count": null,
   "metadata": {},
   "outputs": [],
   "source": []
  }
 ],
 "metadata": {
  "kernelspec": {
   "display_name": "Python 3",
   "language": "python",
   "name": "python3"
  },
  "language_info": {
   "codemirror_mode": {
    "name": "ipython",
    "version": 3
   },
   "file_extension": ".py",
   "mimetype": "text/x-python",
   "name": "python",
   "nbconvert_exporter": "python",
   "pygments_lexer": "ipython3",
   "version": "3.6.7"
  }
 },
 "nbformat": 4,
 "nbformat_minor": 2
}

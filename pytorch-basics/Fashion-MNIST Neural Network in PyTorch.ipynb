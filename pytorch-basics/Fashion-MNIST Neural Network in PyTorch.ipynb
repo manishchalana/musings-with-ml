{
 "cells": [
  {
   "cell_type": "code",
   "execution_count": 14,
   "metadata": {},
   "outputs": [],
   "source": [
    "import torch \n",
    "from torchvision import datasets, transforms\n",
    "from torch import nn\n",
    "import torch.nn.functional as F\n",
    "import matplotlib.pyplot as plt\n",
    "from torch import optim\n",
    "\n",
    "\n",
    "transform = transforms.Compose([transforms.ToTensor(), \n",
    "                               transforms.Normalize([0.5], [0.5])\n",
    "                               ])\n",
    "trainset = datasets.FashionMNIST('~/.pytorch/Fashion-MNIST/', download=True, train=True, transform=transform)\n",
    "testset = datasets.FashionMNIST('~/.pytorch/Fashion-MNIST/', download=True, train=False, transform=transform)\n",
    "\n",
    "\n",
    "\n",
    "trainloader = torch.utils.data.DataLoader(trainset, batch_size=64, shuffle=True)\n",
    "testloader = torch.utils.data.DataLoader(testset, batch_size = 64, shuffle=True)\n",
    "\n",
    "images, labels = next(iter(trainloader))\n",
    "plt.imshow(images[9,:].view(28,28), cmap='gray')"
   ]
  },
  {
   "cell_type": "code",
   "execution_count": 51,
   "metadata": {},
   "outputs": [
    {
     "name": "stdout",
     "output_type": "stream",
     "text": [
      "Training Loss: 2.1698678087578145\n",
      "Training Loss: 1.4719291941316397\n",
      "Training Loss: 0.884523957459403\n",
      "Training Loss: 0.7029079677962037\n",
      "Training Loss: 0.6457178796659401\n"
     ]
    }
   ],
   "source": [
    "model = nn.Sequential(nn.Linear(28*28,128), \n",
    "                     nn.ReLU(),\n",
    "                     nn.Linear(128, 64),\n",
    "                     nn.ReLU(),\n",
    "                     nn.Linear(64, 32),\n",
    "                     nn.ReLU(), \n",
    "                     nn.Linear(32, 10), \n",
    "                     nn.LogSoftmax(dim=1))\n",
    "\n",
    "criterion= nn.NLLLoss()\n",
    "\n",
    "optimizer = optim.SGD(model.parameters(), lr = 0.003)\n",
    "\n",
    "epochs = 5\n",
    "\n",
    "for e in range(epochs):\n",
    "    running_loss = 0\n",
    "    for images, labels in trainloader:\n",
    "        images = images.view(images.shape[0], -1)\n",
    "        optimizer.zero_grad()\n",
    "        \n",
    "        logps = model(images)\n",
    "        loss = criterion(logps, labels)\n",
    "        loss.backward()\n",
    "        optimizer.step()\n",
    "        \n",
    "        running_loss += loss.item()\n",
    "    else:\n",
    "        print(f\"Training Loss: {running_loss/len(trainloader)}\")\n",
    "        \n",
    "\n",
    "\n",
    "\n"
   ]
  },
  {
   "cell_type": "code",
   "execution_count": 125,
   "metadata": {},
   "outputs": [
    {
     "data": {
      "text/plain": [
       "Text(0.5, 1.0, 'Correct label : 5, Predicted label : 5')"
      ]
     },
     "execution_count": 125,
     "metadata": {},
     "output_type": "execute_result"
    },
    {
     "data": {
      "image/png": "[encoded data removed]",
      "text/plain": [
       "<Figure size 432x288 with 1 Axes>"
      ]
     },
     "metadata": {
      "needs_background": "light"
     },
     "output_type": "display_data"
    }
   ],
   "source": [
    "images, labels = next(iter(testloader))\n",
    "\n",
    "\n",
    "\n",
    "idx = 5\n",
    "\n",
    "image = images[idx]\n",
    "with torch.no_grad():\n",
    "    logps = model(images[idx].view(1, -1))\n",
    "    ps = torch.exp(logps)\n",
    "\n",
    "plt.imshow(image.view(28, 28), cmap='gray')        \n",
    "plt.title(\"Correct label : \" + str(labels[idx].item()) + \", Predicted label : \"+ str(torch.argmax(ps).item()))\n",
    "\n",
    "\n",
    "\n",
    "\n",
    "\n"
   ]
  },
  {
   "cell_type": "code",
   "execution_count": null,
   "metadata": {},
   "outputs": [],
   "source": []
  }
 ],
 "metadata": {
  "kernelspec": {
   "display_name": "Python 3",
   "language": "python",
   "name": "python3"
  },
  "language_info": {
   "codemirror_mode": {
    "name": "ipython",
    "version": 3
   },
   "file_extension": ".py",
   "mimetype": "text/x-python",
   "name": "python",
   "nbconvert_exporter": "python",
   "pygments_lexer": "ipython3",
   "version": "3.6.7"
  }
 },
 "nbformat": 4,
 "nbformat_minor": 2
}
